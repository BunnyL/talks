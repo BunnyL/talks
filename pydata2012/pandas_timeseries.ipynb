{
 "metadata": {
  "name": "pandas_timeseries"
 },
 "nbformat": 3,
 "nbformat_minor": 0,
 "worksheets": [
  {
   "cells": [
    {
     "cell_type": "heading",
     "level": 1,
     "metadata": {},
     "source": [
      "Timeseries with pandas"
     ]
    },
    {
     "cell_type": "markdown",
     "metadata": {},
     "source": [
      "Working with time-series data is an important part of data analysis.\n",
      "\n",
      "Starting with v0.8, the _pandas_ library has included a rich API for time-series manipulations.\n",
      "\n",
      "The _pandas_ time-series API includes:\n",
      "\n",
      "- Creating date ranges\n",
      "- Shift, resample, filter\n",
      "- Field accessors\n",
      "- Plotting\n",
      "- File parsing\n",
      "- Time zones\n",
      "- Dual representations"
     ]
    },
    {
     "cell_type": "code",
     "collapsed": false,
     "input": [
      "import sys\n",
      "sys.version"
     ],
     "language": "python",
     "metadata": {},
     "outputs": [],
     "prompt_number": 263
    },
    {
     "cell_type": "code",
     "collapsed": false,
     "input": [
      "import pandas as pd\n",
      "from pandas import Series, DataFrame, Panel\n",
      "from datetime import datetime, date, time\n",
      "pd.__version__"
     ],
     "language": "python",
     "metadata": {},
     "outputs": [],
     "prompt_number": 264
    },
    {
     "cell_type": "code",
     "collapsed": false,
     "input": [
      "np.__version__"
     ],
     "language": "python",
     "metadata": {},
     "outputs": [],
     "prompt_number": 265
    },
    {
     "cell_type": "code",
     "collapsed": false,
     "input": [
      "import matplotlib.pyplot as plt\n",
      "import matplotlib as mpl\n",
      "mpl.rc('figure', figsize=(10, 8))\n",
      "mpl.__version__"
     ],
     "language": "python",
     "metadata": {},
     "outputs": [],
     "prompt_number": 266
    },
    {
     "cell_type": "markdown",
     "metadata": {},
     "source": [
      "###An example using tick data"
     ]
    },
    {
     "cell_type": "markdown",
     "metadata": {},
     "source": [
      "Sample trade ticks from 2011-11-01 to 2011-11-03 for a single security"
     ]
    },
    {
     "cell_type": "code",
     "collapsed": false,
     "input": [
      "with open('data.csv', 'r') as fh:\n",
      "    print fh.readline() # headers\n",
      "    print fh.readline() # first row"
     ],
     "language": "python",
     "metadata": {},
     "outputs": [],
     "prompt_number": 267
    },
    {
     "cell_type": "markdown",
     "metadata": {},
     "source": [
      "`parse_dates`: use a list or dict for flexible (possibly multi-column) date parsing"
     ]
    },
    {
     "cell_type": "code",
     "collapsed": false,
     "input": [
      "data = pd.read_csv('data.csv', \n",
      "                    parse_dates={'Timestamp': ['Date', 'Time']},\n",
      "                    index_col='Timestamp')\n",
      "data"
     ],
     "language": "python",
     "metadata": {},
     "outputs": [],
     "prompt_number": 268
    },
    {
     "cell_type": "code",
     "collapsed": false,
     "input": [
      "ticks = data.ix[:, ['Price', 'Volume']]\n",
      "ticks.head()"
     ],
     "language": "python",
     "metadata": {},
     "outputs": [],
     "prompt_number": 269
    },
    {
     "cell_type": "markdown",
     "metadata": {},
     "source": [
      "####`resample`: regularization and frequency conversion"
     ]
    },
    {
     "cell_type": "code",
     "collapsed": false,
     "input": [
      "bars = ticks.Price.resample('1min', how='ohlc')\n",
      "bars"
     ],
     "language": "python",
     "metadata": {},
     "outputs": [],
     "prompt_number": 270
    },
    {
     "cell_type": "code",
     "collapsed": false,
     "input": [
      "minute_range = bars.high - bars.low\n",
      "minute_range.describe()"
     ],
     "language": "python",
     "metadata": {},
     "outputs": [],
     "prompt_number": 271
    },
    {
     "cell_type": "code",
     "collapsed": false,
     "input": [
      "minute_return = bars.close / bars.open - 1\n",
      "minute_return.describe()"
     ],
     "language": "python",
     "metadata": {},
     "outputs": [],
     "prompt_number": 272
    },
    {
     "cell_type": "markdown",
     "metadata": {},
     "source": [
      "Compute a VWAP using resample"
     ]
    },
    {
     "cell_type": "code",
     "collapsed": false,
     "input": [
      "volume = ticks.Volume.resample('1min', how='sum')\n",
      "value = ticks.prod(axis=1).resample('1min', how='sum')\n",
      "vwap = value / volume"
     ],
     "language": "python",
     "metadata": {},
     "outputs": [],
     "prompt_number": 273
    },
    {
     "cell_type": "markdown",
     "metadata": {},
     "source": [
      "####Convenient indexing for time series data"
     ]
    },
    {
     "cell_type": "code",
     "collapsed": false,
     "input": [
      "vwap.ix['2011-11-01 09:27':'2011-11-01 09:32']"
     ],
     "language": "python",
     "metadata": {},
     "outputs": [],
     "prompt_number": 274
    },
    {
     "cell_type": "markdown",
     "metadata": {},
     "source": [
      "####`at_time`: same (b)at_time (same bat channel)"
     ]
    },
    {
     "cell_type": "code",
     "collapsed": false,
     "input": [
      "bars.open.at_time('9:30')"
     ],
     "language": "python",
     "metadata": {},
     "outputs": [],
     "prompt_number": 275
    },
    {
     "cell_type": "code",
     "collapsed": false,
     "input": [
      "bars.close.at_time('16:00')"
     ],
     "language": "python",
     "metadata": {},
     "outputs": [],
     "prompt_number": 276
    },
    {
     "cell_type": "markdown",
     "metadata": {},
     "source": [
      "####`between_time`: intraday time range"
     ]
    },
    {
     "cell_type": "code",
     "collapsed": false,
     "input": [
      "filtered = vwap.between_time('10:00', '16:00')\n",
      "filtered.head(20)"
     ],
     "language": "python",
     "metadata": {},
     "outputs": [],
     "prompt_number": 277
    },
    {
     "cell_type": "code",
     "collapsed": false,
     "input": [
      "vol = volume.between_time('10:00', '16:00')\n",
      "vol.head(20)"
     ],
     "language": "python",
     "metadata": {},
     "outputs": [],
     "prompt_number": 278
    },
    {
     "cell_type": "markdown",
     "metadata": {},
     "source": [
      "####`fillna`: handling missing data"
     ]
    },
    {
     "cell_type": "code",
     "collapsed": false,
     "input": [
      "filtered.ix['2011-11-03':'2011-11-04'].head(20)"
     ],
     "language": "python",
     "metadata": {},
     "outputs": [],
     "prompt_number": 279
    },
    {
     "cell_type": "code",
     "collapsed": false,
     "input": [
      "filled = filtered.fillna(method='pad', limit=1)\n",
      "filled.ix['2011-11-03':'2011-11-04'].head(20)"
     ],
     "language": "python",
     "metadata": {},
     "outputs": [],
     "prompt_number": 280
    },
    {
     "cell_type": "code",
     "collapsed": false,
     "input": [
      "vol = vol.fillna(0.)\n",
      "vol.head(20)"
     ],
     "language": "python",
     "metadata": {},
     "outputs": [],
     "prompt_number": 281
    },
    {
     "cell_type": "markdown",
     "metadata": {},
     "source": [
      "####Simple plotting"
     ]
    },
    {
     "cell_type": "code",
     "collapsed": false,
     "input": [
      "filled.ix['2011-11-03':'2011-11-04'].plot()\n",
      "plt.ylim(103.5, 104.5)"
     ],
     "language": "python",
     "metadata": {},
     "outputs": [],
     "prompt_number": 282
    },
    {
     "cell_type": "code",
     "collapsed": true,
     "input": [
      "vwap.ix['2011-11-03':'2011-11-04'].plot()\n",
      "plt.ylim(103.5, 104.5)\n",
      "vol.ix['2011-11-03':'2011-11-04'].plot(secondary_y=True, style='r')"
     ],
     "language": "python",
     "metadata": {},
     "outputs": [],
     "prompt_number": 288
    },
    {
     "cell_type": "markdown",
     "metadata": {},
     "source": [
      "####Lead/lag"
     ]
    },
    {
     "cell_type": "code",
     "collapsed": false,
     "input": [
      "ticks.head()"
     ],
     "language": "python",
     "metadata": {},
     "outputs": [],
     "prompt_number": 289
    },
    {
     "cell_type": "markdown",
     "metadata": {},
     "source": [
      "**`shift`** realigns values"
     ]
    },
    {
     "cell_type": "code",
     "collapsed": false,
     "input": [
      "ticks.shift(1).head()"
     ],
     "language": "python",
     "metadata": {},
     "outputs": [],
     "prompt_number": 290
    },
    {
     "cell_type": "code",
     "collapsed": false,
     "input": [
      "ticks.shift(-1).head()"
     ],
     "language": "python",
     "metadata": {},
     "outputs": [],
     "prompt_number": 291
    },
    {
     "cell_type": "markdown",
     "metadata": {},
     "source": [
      "**`tshift`** manipulates index values"
     ]
    },
    {
     "cell_type": "code",
     "collapsed": false,
     "input": [
      "ticks.tshift(1, 'min').head()"
     ],
     "language": "python",
     "metadata": {},
     "outputs": [],
     "prompt_number": 292
    },
    {
     "cell_type": "markdown",
     "metadata": {},
     "source": [
      "####SSS: stupidly simple strategy"
     ]
    },
    {
     "cell_type": "code",
     "collapsed": false,
     "input": [
      "minute_return.head()"
     ],
     "language": "python",
     "metadata": {},
     "outputs": [],
     "prompt_number": 293
    },
    {
     "cell_type": "code",
     "collapsed": false,
     "input": [
      "mr = minute_return.between_time('9:30', '16:00')\n",
      "mr.head()"
     ],
     "language": "python",
     "metadata": {},
     "outputs": [],
     "prompt_number": 294
    },
    {
     "cell_type": "code",
     "collapsed": false,
     "input": [
      "lagged = mr.shift(1)\n",
      "lagged.head()"
     ],
     "language": "python",
     "metadata": {},
     "outputs": [],
     "prompt_number": 295
    },
    {
     "cell_type": "markdown",
     "metadata": {},
     "source": [
      "We shouldn't use shift here because:"
     ]
    },
    {
     "cell_type": "code",
     "collapsed": false,
     "input": [
      "lagged.at_time('9:30')"
     ],
     "language": "python",
     "metadata": {},
     "outputs": [],
     "prompt_number": 296
    },
    {
     "cell_type": "code",
     "collapsed": false,
     "input": [
      "mr.at_time('16:00')"
     ],
     "language": "python",
     "metadata": {},
     "outputs": [],
     "prompt_number": 297
    },
    {
     "cell_type": "code",
     "collapsed": false,
     "input": [
      "lagged = minute_return.tshift(1, 'min').between_time('9:30', '16:00')\n",
      "lagged.at_time('9:30')"
     ],
     "language": "python",
     "metadata": {},
     "outputs": [],
     "prompt_number": 298
    },
    {
     "cell_type": "markdown",
     "metadata": {},
     "source": [
      "Let's play"
     ]
    },
    {
     "cell_type": "code",
     "collapsed": false,
     "input": [
      "pd.ols(y=mr, x=lagged)"
     ],
     "language": "python",
     "metadata": {},
     "outputs": [],
     "prompt_number": 299
    },
    {
     "cell_type": "code",
     "collapsed": false,
     "input": [
      "mr = vwap / bars.open - 1\n",
      "mr = mr.between_time('9:30', '16:00')\n",
      "lagged = mr.tshift(1, 'min').between_time('9:30', '16:00')\n",
      "pd.ols(y=mr, x=lagged)"
     ],
     "language": "python",
     "metadata": {},
     "outputs": [],
     "prompt_number": 300
    },
    {
     "cell_type": "code",
     "collapsed": false,
     "input": [
      "inter = mr * vol\n",
      "inter = inter.between_time('9:30', '16:00')\n",
      "lagged_inter = inter.tshift(1, 'min').between_time('9:30', '16:00')\n",
      "pd.ols(y=mr, x=lagged_inter)"
     ],
     "language": "python",
     "metadata": {},
     "outputs": [],
     "prompt_number": 301
    },
    {
     "cell_type": "markdown",
     "metadata": {},
     "source": [
      "Convert to percentage volume"
     ]
    },
    {
     "cell_type": "code",
     "collapsed": false,
     "input": [
      "vol = vol.groupby(vol.index.day).transform(lambda x: x/x.sum())\n",
      "vol.head()"
     ],
     "language": "python",
     "metadata": {},
     "outputs": [],
     "prompt_number": 302
    },
    {
     "cell_type": "markdown",
     "metadata": {},
     "source": [
      "Verify"
     ]
    },
    {
     "cell_type": "code",
     "collapsed": false,
     "input": [
      "vol.resample('D', how='sum')"
     ],
     "language": "python",
     "metadata": {},
     "outputs": [],
     "prompt_number": 303
    },
    {
     "cell_type": "code",
     "collapsed": false,
     "input": [
      "inter = mr * vol\n",
      "inter = inter.between_time('9:30', '16:00')\n",
      "lagged_inter = inter.tshift(1, 'min').between_time('9:30', '16:00')\n",
      "pd.ols(y=mr, x=lagged_inter)"
     ],
     "language": "python",
     "metadata": {},
     "outputs": [],
     "prompt_number": 304
    },
    {
     "cell_type": "markdown",
     "metadata": {},
     "source": [
      "Vivaldi FTW"
     ]
    },
    {
     "cell_type": "code",
     "collapsed": false,
     "input": [
      "hour = vol.index.hour\n",
      "hourly_volume = vol.groupby(hour).mean()"
     ],
     "language": "python",
     "metadata": {},
     "outputs": [],
     "prompt_number": 308
    },
    {
     "cell_type": "code",
     "collapsed": true,
     "input": [
      "hourly_volume.plot(kind='bar')"
     ],
     "language": "python",
     "metadata": {},
     "outputs": [],
     "prompt_number": 309
    },
    {
     "cell_type": "markdown",
     "metadata": {},
     "source": [
      "Expanding window of hourly means for volume"
     ]
    },
    {
     "cell_type": "code",
     "collapsed": false,
     "input": [
      "hourly = vol.resample('H')\n",
      "\n",
      "def calc_mean(hr):\n",
      "    hr = time(hour=hr)\n",
      "    data = hourly.at_time(hr)\n",
      "    return pd.expanding_mean(data)\n",
      "\n",
      "df = pd.concat([calc_mean(hr) for hr in range(10, 16)])\n",
      "df = df.sort_index()\n",
      "df"
     ],
     "language": "python",
     "metadata": {},
     "outputs": [],
     "prompt_number": 310
    },
    {
     "cell_type": "markdown",
     "metadata": {},
     "source": [
      "Compute deviations from the hourly means"
     ]
    },
    {
     "cell_type": "code",
     "collapsed": false,
     "input": [
      "clean_vol = vol.between_time('10:00', '15:59')\n",
      "dev = clean_vol - df.reindex(clean_vol.index, method='pad') # be careful over day boundaries\n",
      "dev"
     ],
     "language": "python",
     "metadata": {},
     "outputs": [],
     "prompt_number": 315
    },
    {
     "cell_type": "code",
     "collapsed": false,
     "input": [
      "inter = mr * dev\n",
      "inter = inter.between_time('10:00', '15:59')\n",
      "pd.ols(y=mr, x=inter.tshift(1, 'min'))"
     ],
     "language": "python",
     "metadata": {},
     "outputs": [],
     "prompt_number": 316
    },
    {
     "cell_type": "markdown",
     "metadata": {},
     "source": [
      "###Date range creation"
     ]
    },
    {
     "cell_type": "markdown",
     "metadata": {},
     "source": [
      "`pd.date_range`"
     ]
    },
    {
     "cell_type": "code",
     "collapsed": false,
     "input": [
      "rng = pd.date_range('2005', '2012', freq='M')\n",
      "rng"
     ],
     "language": "python",
     "metadata": {},
     "outputs": [],
     "prompt_number": 71
    },
    {
     "cell_type": "code",
     "collapsed": false,
     "input": [
      "pd.date_range('2005', periods=7*12, freq='M')"
     ],
     "language": "python",
     "metadata": {},
     "outputs": [],
     "prompt_number": 72
    },
    {
     "cell_type": "code",
     "collapsed": false,
     "input": [
      "pd.date_range(end='2012', periods=7*12, freq='M')"
     ],
     "language": "python",
     "metadata": {},
     "outputs": [],
     "prompt_number": 73
    },
    {
     "cell_type": "markdown",
     "metadata": {},
     "source": [
      "#### Frequency constants\n",
      "\n",
      "<table>\n",
      "    <tr><td>Name</td><td>Description</td></tr>\n",
      "    <tr><td>D</td><td>Calendar day</td></tr>\n",
      "    <tr><td>B</td><td>Business day</td></tr>\n",
      "    <tr><td>M</td><td>Calendar end of month</td></tr>\n",
      "    <tr><td>BM</td><td>Business end of month</td></tr>\n",
      "    <tr><td>MS</td><td>Calendar start of month</td></tr>\n",
      "    <tr><td>BMS</td><td>Calendar start of month</td></tr>\n",
      "    <tr><td>W-{MON, TUE,...}</td><td>Weekly on Monday, Tuesday, ...</td></tr>\n",
      "    <tr><td>Q-{JAN, FEB,...}</td><td>Quarterly starting on January, February...</td></tr>\n",
      "    <tr><td>A-{JAN, FEB, ...}</td><td>Year end (December)</td></tr>    \n",
      "    <tr><td>H</td><td>Hour</td></tr>\n",
      "    <tr><td>T</td><td>Minute</td></tr>\n",
      "    <tr><td>s</td><td>Second</td></tr>\n",
      "    <tr><td>L, ms</td><td>Millisecond</td></tr>\n",
      "    <tr><td>U</td><td>Microsecond</td></tr>\n",
      "</table>"
     ]
    },
    {
     "cell_type": "markdown",
     "metadata": {},
     "source": [
      "Anchored offsets"
     ]
    },
    {
     "cell_type": "code",
     "collapsed": false,
     "input": [
      "pd.date_range('2005', periods=4, freq='Q')"
     ],
     "language": "python",
     "metadata": {},
     "outputs": [],
     "prompt_number": 131
    },
    {
     "cell_type": "code",
     "collapsed": false,
     "input": [
      "pd.date_range('2005', periods=4, freq='Q-NOV')"
     ],
     "language": "python",
     "metadata": {},
     "outputs": [],
     "prompt_number": 132
    },
    {
     "cell_type": "markdown",
     "metadata": {},
     "source": [
      "Week anchor indicates end of week"
     ]
    },
    {
     "cell_type": "code",
     "collapsed": false,
     "input": [
      "wkrng = pd.date_range('2012-10-25', periods=3, freq='W')\n",
      "wkrng"
     ],
     "language": "python",
     "metadata": {},
     "outputs": [],
     "prompt_number": 137
    },
    {
     "cell_type": "code",
     "collapsed": false,
     "input": [
      "wkrng[0].dayofweek"
     ],
     "language": "python",
     "metadata": {},
     "outputs": [],
     "prompt_number": 138
    },
    {
     "cell_type": "markdown",
     "metadata": {},
     "source": [
      "Year anchor indicates year ending month"
     ]
    },
    {
     "cell_type": "code",
     "collapsed": false,
     "input": [
      "pd.date_range('2005', periods=3, freq='A-JUN')"
     ],
     "language": "python",
     "metadata": {},
     "outputs": [],
     "prompt_number": 139
    },
    {
     "cell_type": "markdown",
     "metadata": {},
     "source": [
      "`DatetimeIndex` is a subclass of Index"
     ]
    },
    {
     "cell_type": "code",
     "collapsed": false,
     "input": [
      "isinstance(rng, pd.Index)"
     ],
     "language": "python",
     "metadata": {},
     "outputs": [],
     "prompt_number": 74
    },
    {
     "cell_type": "code",
     "collapsed": false,
     "input": [
      "rng[2:4]"
     ],
     "language": "python",
     "metadata": {},
     "outputs": [],
     "prompt_number": 75
    },
    {
     "cell_type": "markdown",
     "metadata": {},
     "source": [
      "Use it for `Series/DataFrame` labelling"
     ]
    },
    {
     "cell_type": "code",
     "collapsed": false,
     "input": [
      "s = Series(randn(len(rng)), rng)\n",
      "s.head()"
     ],
     "language": "python",
     "metadata": {},
     "outputs": [],
     "prompt_number": 77
    },
    {
     "cell_type": "code",
     "collapsed": false,
     "input": [
      "df = DataFrame(randn(len(rng), 3), rng, ['X', 'Y', 'Z'])\n",
      "df.head()"
     ],
     "language": "python",
     "metadata": {},
     "outputs": [],
     "prompt_number": 78
    },
    {
     "cell_type": "markdown",
     "metadata": {},
     "source": [
      "####Label indexing"
     ]
    },
    {
     "cell_type": "code",
     "collapsed": false,
     "input": [
      "s[datetime(2005, 1, 31) : datetime(2006, 12, 31)] #slice end inclusive"
     ],
     "language": "python",
     "metadata": {},
     "outputs": [],
     "prompt_number": 79
    },
    {
     "cell_type": "code",
     "collapsed": false,
     "input": [
      "df['2005-1-31':'2006-12-31']"
     ],
     "language": "python",
     "metadata": {},
     "outputs": [],
     "prompt_number": 80
    },
    {
     "cell_type": "markdown",
     "metadata": {},
     "source": [
      "**Partial indexing**"
     ]
    },
    {
     "cell_type": "code",
     "collapsed": false,
     "input": [
      "s['2005':'2006']"
     ],
     "language": "python",
     "metadata": {},
     "outputs": [],
     "prompt_number": 81
    },
    {
     "cell_type": "markdown",
     "metadata": {},
     "source": [
      "positional indexing still works"
     ]
    },
    {
     "cell_type": "code",
     "collapsed": false,
     "input": [
      "df[:2] # slice end exclusive"
     ],
     "language": "python",
     "metadata": {},
     "outputs": [],
     "prompt_number": 171
    },
    {
     "cell_type": "markdown",
     "metadata": {},
     "source": [
      "####Elements of DatetimeIndex"
     ]
    },
    {
     "cell_type": "markdown",
     "metadata": {},
     "source": [
      "Elements boxed as `Timestamp` (subclass of `datetime.datetime`)"
     ]
    },
    {
     "cell_type": "code",
     "collapsed": false,
     "input": [
      "elm = rng[0]\n",
      "elm"
     ],
     "language": "python",
     "metadata": {},
     "outputs": [],
     "prompt_number": 12
    },
    {
     "cell_type": "code",
     "collapsed": false,
     "input": [
      "isinstance(elm, datetime)"
     ],
     "language": "python",
     "metadata": {},
     "outputs": [],
     "prompt_number": 14
    },
    {
     "cell_type": "markdown",
     "metadata": {},
     "source": [
      "Why do we need this subclass?"
     ]
    },
    {
     "cell_type": "code",
     "collapsed": false,
     "input": [
      "elm.nanosecond"
     ],
     "language": "python",
     "metadata": {},
     "outputs": [],
     "prompt_number": 15
    },
    {
     "cell_type": "markdown",
     "metadata": {},
     "source": [
      "Implemented internally using numpy.datetime64 (dtype='M8[ns]')"
     ]
    },
    {
     "cell_type": "code",
     "collapsed": false,
     "input": [
      "val = rng.values"
     ],
     "language": "python",
     "metadata": {},
     "outputs": [],
     "prompt_number": 84
    },
    {
     "cell_type": "code",
     "collapsed": false,
     "input": [
      "type(val)"
     ],
     "language": "python",
     "metadata": {},
     "outputs": [],
     "prompt_number": 85
    },
    {
     "cell_type": "code",
     "collapsed": false,
     "input": [
      "val.dtype"
     ],
     "language": "python",
     "metadata": {},
     "outputs": [],
     "prompt_number": 86
    },
    {
     "cell_type": "markdown",
     "metadata": {},
     "source": [
      "Upgrade Numpy to 1.7b to fix repr issue"
     ]
    },
    {
     "cell_type": "code",
     "collapsed": false,
     "input": [
      "val[0]"
     ],
     "language": "python",
     "metadata": {},
     "outputs": [],
     "prompt_number": 90
    },
    {
     "cell_type": "markdown",
     "metadata": {},
     "source": [
      "Or use DatetimeIndex.asobject for workaround"
     ]
    },
    {
     "cell_type": "code",
     "collapsed": false,
     "input": [
      "rng.asobject.values[0]"
     ],
     "language": "python",
     "metadata": {},
     "outputs": [],
     "prompt_number": 93
    },
    {
     "cell_type": "markdown",
     "metadata": {},
     "source": [
      "#### Other views"
     ]
    },
    {
     "cell_type": "code",
     "collapsed": false,
     "input": [
      "rng.asobject"
     ],
     "language": "python",
     "metadata": {},
     "outputs": [],
     "prompt_number": 159
    },
    {
     "cell_type": "code",
     "collapsed": false,
     "input": [
      "rng.to_pydatetime()"
     ],
     "language": "python",
     "metadata": {},
     "outputs": [],
     "prompt_number": 160
    },
    {
     "cell_type": "code",
     "collapsed": false,
     "input": [
      "rng.to_pydatetime()[0]"
     ],
     "language": "python",
     "metadata": {},
     "outputs": [],
     "prompt_number": 161
    },
    {
     "cell_type": "markdown",
     "metadata": {},
     "source": [
      "Integer representation"
     ]
    },
    {
     "cell_type": "code",
     "collapsed": false,
     "input": [
      "type(rng.asi8)"
     ],
     "language": "python",
     "metadata": {},
     "outputs": [],
     "prompt_number": 96
    },
    {
     "cell_type": "code",
     "collapsed": false,
     "input": [
      "rng.asi8.dtype"
     ],
     "language": "python",
     "metadata": {},
     "outputs": [],
     "prompt_number": 98
    },
    {
     "cell_type": "code",
     "collapsed": false,
     "input": [
      "rng.asi8[0]"
     ],
     "language": "python",
     "metadata": {},
     "outputs": [],
     "prompt_number": 97
    },
    {
     "cell_type": "markdown",
     "metadata": {},
     "source": [
      "###More fun with resampling and asfreq"
     ]
    },
    {
     "cell_type": "code",
     "collapsed": false,
     "input": [
      "s.index.freqstr"
     ],
     "language": "python",
     "metadata": {},
     "outputs": [],
     "prompt_number": 320
    },
    {
     "cell_type": "code",
     "collapsed": false,
     "input": [
      "s.resample('30D').head(10)"
     ],
     "language": "python",
     "metadata": {},
     "outputs": [],
     "prompt_number": 323
    },
    {
     "cell_type": "code",
     "collapsed": false,
     "input": [
      "s.resample('30D', fill_method='ffill').head(10)"
     ],
     "language": "python",
     "metadata": {},
     "outputs": [],
     "prompt_number": 324
    },
    {
     "cell_type": "markdown",
     "metadata": {},
     "source": [
      "Upsampling"
     ]
    },
    {
     "cell_type": "code",
     "collapsed": false,
     "input": [
      "s.ix[:3].resample('W')"
     ],
     "language": "python",
     "metadata": {},
     "outputs": [],
     "prompt_number": 328
    },
    {
     "cell_type": "code",
     "collapsed": false,
     "input": [
      "s.ix[:3].resample('W', fill_method='ffill')"
     ],
     "language": "python",
     "metadata": {},
     "outputs": [],
     "prompt_number": 329
    },
    {
     "cell_type": "markdown",
     "metadata": {},
     "source": [
      "asfreq"
     ]
    },
    {
     "cell_type": "code",
     "collapsed": false,
     "input": [
      "s.asfreq('Q').head()"
     ],
     "language": "python",
     "metadata": {},
     "outputs": [],
     "prompt_number": 334
    },
    {
     "cell_type": "code",
     "collapsed": false,
     "input": [
      "s.resample('Q', 'last').head()"
     ],
     "language": "python",
     "metadata": {},
     "outputs": [],
     "prompt_number": 337
    },
    {
     "cell_type": "markdown",
     "metadata": {},
     "source": [
      "closed: 'left' or 'right' bin edge is closed (default is 'right')"
     ]
    },
    {
     "cell_type": "code",
     "collapsed": false,
     "input": [
      "s.resample('Q').head()"
     ],
     "language": "python",
     "metadata": {},
     "outputs": [],
     "prompt_number": 338
    },
    {
     "cell_type": "code",
     "collapsed": false,
     "input": [
      "s.ix[3:6].mean()"
     ],
     "language": "python",
     "metadata": {},
     "outputs": [],
     "prompt_number": 346
    },
    {
     "cell_type": "code",
     "collapsed": false,
     "input": [
      "s.resample('Q', closed='left').head()"
     ],
     "language": "python",
     "metadata": {},
     "outputs": [],
     "prompt_number": 340
    },
    {
     "cell_type": "code",
     "collapsed": false,
     "input": [
      "s.ix[2:5].mean()"
     ],
     "language": "python",
     "metadata": {},
     "outputs": [],
     "prompt_number": 348
    },
    {
     "cell_type": "markdown",
     "metadata": {},
     "source": [
      "label: label the bin with 'left' or 'right' edge (default is 'right')"
     ]
    },
    {
     "cell_type": "code",
     "collapsed": false,
     "input": [
      "s.resample('Q').head()"
     ],
     "language": "python",
     "metadata": {},
     "outputs": [],
     "prompt_number": 349
    },
    {
     "cell_type": "code",
     "collapsed": false,
     "input": [
      "s.resample('Q', label='left').head()"
     ],
     "language": "python",
     "metadata": {},
     "outputs": [],
     "prompt_number": 351
    },
    {
     "cell_type": "markdown",
     "metadata": {},
     "source": [
      "loffset: shift the result index"
     ]
    },
    {
     "cell_type": "code",
     "collapsed": false,
     "input": [
      "s.resample('Q', label='left', loffset='-1D').head()"
     ],
     "language": "python",
     "metadata": {},
     "outputs": [],
     "prompt_number": 361
    },
    {
     "cell_type": "markdown",
     "metadata": {},
     "source": [
      "###Time zones"
     ]
    },
    {
     "cell_type": "markdown",
     "metadata": {},
     "source": [
      "####Localization"
     ]
    },
    {
     "cell_type": "code",
     "collapsed": false,
     "input": [
      "rng.tz"
     ],
     "language": "python",
     "metadata": {},
     "outputs": [],
     "prompt_number": 101
    },
    {
     "cell_type": "code",
     "collapsed": false,
     "input": [
      "d = rng[0]\n",
      "d"
     ],
     "language": "python",
     "metadata": {},
     "outputs": [],
     "prompt_number": 111
    },
    {
     "cell_type": "code",
     "collapsed": false,
     "input": [
      "d.tz"
     ],
     "language": "python",
     "metadata": {},
     "outputs": [],
     "prompt_number": 112
    },
    {
     "cell_type": "code",
     "collapsed": false,
     "input": [
      "localized = rng.tz_localize('US/Eastern')"
     ],
     "language": "python",
     "metadata": {},
     "outputs": [],
     "prompt_number": 106
    },
    {
     "cell_type": "markdown",
     "metadata": {},
     "source": [
      "Localization assumes naive time is local (and not UTC)"
     ]
    },
    {
     "cell_type": "code",
     "collapsed": false,
     "input": [
      "localized[0]"
     ],
     "language": "python",
     "metadata": {},
     "outputs": [],
     "prompt_number": 107
    },
    {
     "cell_type": "code",
     "collapsed": false,
     "input": [
      "localized.asi8[0]"
     ],
     "language": "python",
     "metadata": {},
     "outputs": [],
     "prompt_number": 125
    },
    {
     "cell_type": "code",
     "collapsed": false,
     "input": [
      "rng.asi8[0]"
     ],
     "language": "python",
     "metadata": {},
     "outputs": [],
     "prompt_number": 126
    },
    {
     "cell_type": "code",
     "collapsed": false,
     "input": [
      "d_utc = d.tz_localize('UTC')\n",
      "d_utc"
     ],
     "language": "python",
     "metadata": {},
     "outputs": [],
     "prompt_number": 118
    },
    {
     "cell_type": "code",
     "collapsed": false,
     "input": [
      "d_utc.tz_localize('US/Eastern')"
     ],
     "language": "python",
     "metadata": {},
     "outputs": [],
     "prompt_number": 121
    },
    {
     "cell_type": "markdown",
     "metadata": {},
     "source": [
      "####TZ conversions"
     ]
    },
    {
     "cell_type": "code",
     "collapsed": false,
     "input": [
      "localized.tz_convert('UTC')"
     ],
     "language": "python",
     "metadata": {},
     "outputs": [],
     "prompt_number": 114
    },
    {
     "cell_type": "code",
     "collapsed": false,
     "input": [
      "d_ny = d_utc.tz_convert('US/Eastern')\n",
      "d_ny"
     ],
     "language": "python",
     "metadata": {},
     "outputs": [],
     "prompt_number": 119
    },
    {
     "cell_type": "code",
     "collapsed": false,
     "input": [
      "rng.tz_convert('US/Eastern')"
     ],
     "language": "python",
     "metadata": {},
     "outputs": [],
     "prompt_number": 120
    },
    {
     "cell_type": "markdown",
     "metadata": {},
     "source": [
      "### Period representation"
     ]
    },
    {
     "cell_type": "markdown",
     "metadata": {},
     "source": [
      "A lot of time series data is better represented as intervals of time rather than points in time.\n",
      "\n",
      "This is represented in _pandas_ as Period and PeriodIndex"
     ]
    },
    {
     "cell_type": "markdown",
     "metadata": {},
     "source": [
      "####Creating periods"
     ]
    },
    {
     "cell_type": "code",
     "collapsed": false,
     "input": [
      "p = pd.Period('2005', 'A')\n",
      "p"
     ],
     "language": "python",
     "metadata": {},
     "outputs": [],
     "prompt_number": 129
    },
    {
     "cell_type": "code",
     "collapsed": false,
     "input": [
      "pd.Period('2006Q1', 'Q-MAR')"
     ],
     "language": "python",
     "metadata": {},
     "outputs": [],
     "prompt_number": 140
    },
    {
     "cell_type": "code",
     "collapsed": false,
     "input": [
      "pd.Period('2007-1-1', 'B')"
     ],
     "language": "python",
     "metadata": {},
     "outputs": [],
     "prompt_number": 141
    },
    {
     "cell_type": "markdown",
     "metadata": {},
     "source": [
      "No xxx-start frequencies"
     ]
    },
    {
     "cell_type": "code",
     "collapsed": false,
     "input": [
      "pd.Period('2005', 'AS')"
     ],
     "language": "python",
     "metadata": {},
     "outputs": [],
     "prompt_number": 142
    },
    {
     "cell_type": "markdown",
     "metadata": {},
     "source": [
      "####PeriodRange"
     ]
    },
    {
     "cell_type": "code",
     "collapsed": false,
     "input": [
      "pd.period_range('2005', '2012', freq='A')"
     ],
     "language": "python",
     "metadata": {},
     "outputs": [],
     "prompt_number": 143
    },
    {
     "cell_type": "code",
     "collapsed": false,
     "input": [
      "prng = pd.period_range('2005', periods=7, freq='A')\n",
      "prng"
     ],
     "language": "python",
     "metadata": {},
     "outputs": [],
     "prompt_number": 150
    },
    {
     "cell_type": "markdown",
     "metadata": {},
     "source": [
      "####Converting between representations"
     ]
    },
    {
     "cell_type": "code",
     "collapsed": false,
     "input": [
      "p"
     ],
     "language": "python",
     "metadata": {},
     "outputs": [],
     "prompt_number": 145
    },
    {
     "cell_type": "code",
     "collapsed": false,
     "input": [
      "p.start_time"
     ],
     "language": "python",
     "metadata": {},
     "outputs": [],
     "prompt_number": 146
    },
    {
     "cell_type": "code",
     "collapsed": false,
     "input": [
      "p.end_time"
     ],
     "language": "python",
     "metadata": {},
     "outputs": [],
     "prompt_number": 147
    },
    {
     "cell_type": "code",
     "collapsed": false,
     "input": [
      "p.to_timestamp() # same freq, start by default"
     ],
     "language": "python",
     "metadata": {},
     "outputs": [],
     "prompt_number": 154
    },
    {
     "cell_type": "code",
     "collapsed": false,
     "input": [
      "p.to_timestamp('M', 's')"
     ],
     "language": "python",
     "metadata": {},
     "outputs": [],
     "prompt_number": 148
    },
    {
     "cell_type": "code",
     "collapsed": false,
     "input": [
      "p.to_timestamp('M', 'e')"
     ],
     "language": "python",
     "metadata": {},
     "outputs": [],
     "prompt_number": 149
    },
    {
     "cell_type": "code",
     "collapsed": false,
     "input": [
      "prng.to_timestamp(how='e')"
     ],
     "language": "python",
     "metadata": {},
     "outputs": [],
     "prompt_number": 153
    },
    {
     "cell_type": "code",
     "collapsed": false,
     "input": [
      "prng.to_timestamp('M', 'e')"
     ],
     "language": "python",
     "metadata": {},
     "outputs": [],
     "prompt_number": 158
    },
    {
     "cell_type": "code",
     "collapsed": false,
     "input": [
      "rng"
     ],
     "language": "python",
     "metadata": {},
     "outputs": [],
     "prompt_number": 162
    },
    {
     "cell_type": "code",
     "collapsed": false,
     "input": [
      "rng.to_period()"
     ],
     "language": "python",
     "metadata": {},
     "outputs": [],
     "prompt_number": 164
    },
    {
     "cell_type": "code",
     "collapsed": false,
     "input": [
      "rng.to_period('D')"
     ],
     "language": "python",
     "metadata": {},
     "outputs": [],
     "prompt_number": 165
    },
    {
     "cell_type": "code",
     "collapsed": false,
     "input": [],
     "language": "python",
     "metadata": {},
     "outputs": []
    }
   ],
   "metadata": {}
  }
 ]
}